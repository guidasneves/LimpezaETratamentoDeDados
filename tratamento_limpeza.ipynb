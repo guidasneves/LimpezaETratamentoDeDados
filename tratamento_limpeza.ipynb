{
 "cells": [
  {
   "cell_type": "markdown",
   "id": "e96da83d-479e-4e25-a07e-372f49ad2525",
   "metadata": {},
   "source": [
    "# Limpeza e Tratamento de Dados"
   ]
  },
  {
   "cell_type": "code",
   "execution_count": null,
   "id": "6a6b1f95-f89b-4ff3-af18-4845b74876e7",
   "metadata": {
    "tags": []
   },
   "outputs": [],
   "source": [
    "# Importando as bibliotecas\n",
    "import pandas as pd\n",
    "import seaborn as srn\n",
    "import statistics as est"
   ]
  },
  {
   "cell_type": "code",
   "execution_count": null,
   "id": "87ff2eba",
   "metadata": {
    "tags": []
   },
   "outputs": [],
   "source": [
    "# Carregando a Base de dados\n",
    "dados = pd.read_csv('tempo.csv', sep=';')\n",
    "dados.head()"
   ]
  },
  {
   "cell_type": "markdown",
   "id": "a19dc360",
   "metadata": {},
   "source": [
    "## Dados Categóricos\n",
    "Explorando os Dados Categóricos"
   ]
  },
  {
   "cell_type": "code",
   "execution_count": null,
   "id": "1b9c9cc1",
   "metadata": {
    "tags": []
   },
   "outputs": [],
   "source": [
    "# Coluna Aparencia\n",
    "agrupado = dados.groupby(['Aparencia']).size()\n",
    "agrupado"
   ]
  },
  {
   "cell_type": "code",
   "execution_count": null,
   "id": "e4799bae",
   "metadata": {},
   "outputs": [],
   "source": [
    "# Gerando um Gráfico de Barras dos valores existentes na Coluna Aparencia agrupados\n",
    "agrupado.plot.bar(color='blue')"
   ]
  },
  {
   "cell_type": "code",
   "execution_count": null,
   "id": "80d5b930",
   "metadata": {
    "tags": []
   },
   "outputs": [],
   "source": [
    "# Coluna Jogar\n",
    "agrupado = dados.groupby(['Jogar']).size()\n",
    "agrupado"
   ]
  },
  {
   "cell_type": "code",
   "execution_count": null,
   "id": "0b186993",
   "metadata": {},
   "outputs": [],
   "source": [
    "agrupado.plot.bar(color='blue')"
   ]
  },
  {
   "cell_type": "code",
   "execution_count": null,
   "id": "fd87af2c",
   "metadata": {
    "tags": []
   },
   "outputs": [],
   "source": [
    "# Coluna Vento\n",
    "agrupado = dados.groupby(['Vento']).size()\n",
    "agrupado"
   ]
  },
  {
   "cell_type": "code",
   "execution_count": null,
   "id": "fca37918",
   "metadata": {},
   "outputs": [],
   "source": [
    "agrupado.plot.bar(color='blue')"
   ]
  },
  {
   "cell_type": "markdown",
   "id": "5e9e23e0",
   "metadata": {},
   "source": [
    "## Dados Numéricos\n",
    "Explorando os Dados Numéricos"
   ]
  },
  {
   "cell_type": "code",
   "execution_count": null,
   "id": "11e74a87",
   "metadata": {
    "tags": []
   },
   "outputs": [],
   "source": [
    "# Coluna Temperatura\n",
    "dados['Temperatura'].describe()"
   ]
  },
  {
   "cell_type": "code",
   "execution_count": null,
   "id": "bc523025",
   "metadata": {
    "tags": []
   },
   "outputs": [],
   "source": [
    "# Gerando um Boxplot da Coluna Temperatura para identificação de Outliers\n",
    "srn.boxplot(dados['Temperatura']).set_title('Temperatura')"
   ]
  },
  {
   "cell_type": "code",
   "execution_count": null,
   "id": "5d8c66bb",
   "metadata": {
    "tags": []
   },
   "outputs": [],
   "source": [
    "# Gerando um Histograma da Coluna Temperatura para identificação de Outliers\n",
    "srn.histplot(dados['Temperatura']).set_title('Temperatura')"
   ]
  },
  {
   "cell_type": "code",
   "execution_count": null,
   "id": "43416cc3",
   "metadata": {
    "tags": []
   },
   "outputs": [],
   "source": [
    "# Coluna Umidade\n",
    "dados['Umidade'].describe()"
   ]
  },
  {
   "cell_type": "code",
   "execution_count": null,
   "id": "4df729ff",
   "metadata": {
    "tags": []
   },
   "outputs": [],
   "source": [
    "srn.boxplot(dados['Umidade']).set_title('Umidade')"
   ]
  },
  {
   "cell_type": "code",
   "execution_count": null,
   "id": "75aa4abd",
   "metadata": {
    "tags": []
   },
   "outputs": [],
   "source": [
    "srn.histplot(dados['Umidade']).set_title('Umidade')"
   ]
  },
  {
   "cell_type": "markdown",
   "id": "d964ba47",
   "metadata": {},
   "source": [
    "### Verificando os Valores NA's"
   ]
  },
  {
   "cell_type": "code",
   "execution_count": null,
   "id": "7dc29efd",
   "metadata": {
    "tags": []
   },
   "outputs": [],
   "source": [
    "# Contando os valores NA's\n",
    "dados.isnull().sum()"
   ]
  },
  {
   "cell_type": "markdown",
   "id": "7df846a5",
   "metadata": {},
   "source": [
    "### Tratando os Valores NA's"
   ]
  },
  {
   "cell_type": "code",
   "execution_count": null,
   "id": "215d4c79",
   "metadata": {
    "tags": []
   },
   "outputs": [],
   "source": [
    "# Calculando a Mediana da Coluna Umidade\n",
    "mediana = est.median(dados['Umidade'])\n",
    "# Substituindo os valores NA's pela mediana da própria coluna\n",
    "dados['Umidade'].fillna(mediana, inplace=True)\n",
    "# Substituindo os valores NA's por 'FALSO'\n",
    "dados['Vento'].fillna('FALSO', inplace=True)"
   ]
  },
  {
   "cell_type": "markdown",
   "id": "69c1664f",
   "metadata": {},
   "source": [
    "### Tratamento de Dados"
   ]
  },
  {
   "cell_type": "markdown",
   "id": "f3c7ce10",
   "metadata": {},
   "source": [
    "Tratando os valores Outliers"
   ]
  },
  {
   "cell_type": "code",
   "execution_count": null,
   "id": "31128667",
   "metadata": {
    "tags": []
   },
   "outputs": [],
   "source": [
    "# Calculando a Mediana da Coluna Temperatura\n",
    "medianatemp = est.median(dados['Temperatura'])\n",
    "# Substituindo os valores em Temperatura <=130 e >130 pela sua própria Mediana\n",
    "dados.loc[(dados['Temperatura'] < -130) | (dados['Temperatura'] > 130), 'Temperatura'] = medianatemp"
   ]
  },
  {
   "cell_type": "code",
   "execution_count": null,
   "id": "c94eebce",
   "metadata": {
    "tags": []
   },
   "outputs": [],
   "source": [
    "# Substituindo os valores na Coluna <0 e >100 pela sua própria Mediana\n",
    "dados.loc[(dados['Umidade'] < 0) | (dados['Umidade'] > 100), 'Umidade'] = mediana"
   ]
  },
  {
   "cell_type": "code",
   "execution_count": null,
   "id": "528b727b",
   "metadata": {
    "tags": []
   },
   "outputs": [],
   "source": [
    "# Substituindo os valores 'menos' por 'sol' na Coluna Aparencia\n",
    "dados.loc[dados['Aparencia'] == 'menos', 'Aparencia'] = 'sol'"
   ]
  }
 ],
 "metadata": {
  "kernelspec": {
   "display_name": "Python 3 (ipykernel)",
   "language": "python",
   "name": "python3"
  },
  "language_info": {
   "codemirror_mode": {
    "name": "ipython",
    "version": 3
   },
   "file_extension": ".py",
   "mimetype": "text/x-python",
   "name": "python",
   "nbconvert_exporter": "python",
   "pygments_lexer": "ipython3",
   "version": "3.12.0"
  }
 },
 "nbformat": 4,
 "nbformat_minor": 5
}
